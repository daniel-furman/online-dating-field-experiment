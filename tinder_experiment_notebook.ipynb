{
  "nbformat": 4,
  "nbformat_minor": 0,
  "metadata": {
    "colab": {
      "name": "tinder_experiment_notebook.ipynb",
      "provenance": [],
      "collapsed_sections": [],
      "machine_shape": "hm",
      "background_execution": "on"
    },
    "kernelspec": {
      "name": "python3",
      "display_name": "Python 3"
    },
    "language_info": {
      "name": "python"
    }
  },
  "cells": [
    {
      "cell_type": "markdown",
      "source": [
        "# Tinder experiment analysis\n",
        "\n",
        "---\n",
        "\n",
        "## Part 1: difference between Men and Women\n",
        "\n",
        "* the treatment effect metric employed is the percentage decrease in conversion rate from the Princeton profile to the Rutgers profile, \"the percentage decrease metric\"\n",
        "* bootstrap resampling employed to generate a list of the percentage decrease metrics for females matching male profiles, \"df_male_full\", and for males matching female profiles, \"df_female_full\"\n",
        "* tests, null is difference is explained by chance, alternative is percentage decrease is higher for females matching males than for males matching females (females care more about academic prestige on Tinder than males)\n",
        "  * one-sided t test \n",
        "  * one-sided permutation test\n",
        "  * cohen's d effect size"
      ],
      "metadata": {
        "id": "rctirBEjjMGB"
      }
    },
    {
      "cell_type": "code",
      "source": [
        "!pip install --upgrade scipy"
      ],
      "metadata": {
        "colab": {
          "base_uri": "https://localhost:8080/"
        },
        "id": "1eGcdgCYjMNE",
        "outputId": "1031b0fa-505d-49f4-9d27-44b0d041f10d"
      },
      "execution_count": null,
      "outputs": [
        {
          "output_type": "stream",
          "name": "stdout",
          "text": [
            "Requirement already satisfied: scipy in /usr/local/lib/python3.7/dist-packages (1.7.3)\n",
            "Requirement already satisfied: numpy<1.23.0,>=1.16.5 in /usr/local/lib/python3.7/dist-packages (from scipy) (1.21.6)\n"
          ]
        }
      ]
    },
    {
      "cell_type": "code",
      "source": [
        "import numpy as np\n",
        "from random import choices, shuffle\n",
        "import pandas as pd\n",
        "from statistics import mean, stdev\n",
        "from math import sqrt\n",
        "from scipy import stats\n",
        "import time\n"
      ],
      "metadata": {
        "id": "pO_fm1I-QlHg"
      },
      "execution_count": null,
      "outputs": []
    },
    {
      "cell_type": "code",
      "source": [
        "def bootstrap(ground_truth, predictions, metric, B, confidence_level=0.95):\n",
        "    \"\"\"\n",
        "    helper function for providing bootstrap resampling\n",
        "    \n",
        "        ground_truth / predictions: ground truthed labels / model predictions\n",
        "        metric: metric to generate confidence interval for\n",
        "        B: number of iterations\n",
        "        confidence_level: percentage confidence interval desired (default is 2 sigma)\n",
        "    \"\"\"\n",
        "    \n",
        "    # compute lower and upper significance index\n",
        "    critical_value=(1-confidence_level)/2\n",
        "    lower_sig=100*critical_value\n",
        "    upper_sig=100*(1-critical_value)\n",
        "    data=[]\n",
        "    for g, p in zip(ground_truth, predictions):\n",
        "        data.append([g,p])\n",
        "\n",
        "    accuracies=[]\n",
        "    # bootstrap resampling loop\n",
        "    for b in range(B):\n",
        "        choice=choices(data, k=len(data))\n",
        "        choice=np.array(choice)\n",
        "        accuracy=metric(choice[:,0], choice[:,1])\n",
        "        \n",
        "        accuracies.append(accuracy)\n",
        "    \n",
        "    #percentiles=np.percentile(accuracies, [lower_sig, 50, upper_sig])\n",
        "    \n",
        "    #lower=percentiles[0]\n",
        "    #median=percentiles[1]\n",
        "    #upper=percentiles[2]\n",
        "    \n",
        "    return accuracies"
      ],
      "metadata": {
        "id": "D0D_533LQlag"
      },
      "execution_count": null,
      "outputs": []
    },
    {
      "cell_type": "code",
      "source": [
        "def percentage_decrease_metric(princeton, rutgers):\n",
        "  # grab outcomes for each group\n",
        "\n",
        "  printeton_outcomes = princeton\n",
        "  rutgers_outcomes = rutgers\n",
        "\n",
        "  # grab conversion rate for each group\n",
        "  princeton_matches = printeton_outcomes[printeton_outcomes==1] \n",
        "  princeton_conversion_rate = len(princeton_matches)/len(printeton_outcomes)\n",
        "\n",
        "  rutgers_matches = rutgers_outcomes[rutgers_outcomes==1] \n",
        "  rutgers_conversion_rate = len(rutgers_matches)/len(rutgers_outcomes)\n",
        "\n",
        "  # grab percentage increase from rutgers to princeton\n",
        "  percentage_decrease = ((princeton_conversion_rate - rutgers_conversion_rate)/(princeton_conversion_rate)) * 100\n",
        "  return percentage_decrease"
      ],
      "metadata": {
        "id": "re_J63Z8QmET"
      },
      "execution_count": null,
      "outputs": []
    },
    {
      "cell_type": "code",
      "source": [
        "# read the data\n",
        "\n",
        "df_female_full = pd.read_csv('https://raw.githubusercontent.com/daniel-furman/online-dating-field-experiment/main/data/processed_data/df_female_full.csv', index_col='Unnamed: 0')\n",
        "# shuffle the data\n",
        "df_female_full = df_female_full.sample(frac=1)\n",
        "print(df_female_full.head())\n",
        "\n",
        "df_male_full = pd.read_csv('https://raw.githubusercontent.com/daniel-furman/online-dating-field-experiment/main/data/processed_data/df_male_full_2.csv', index_col='Unnamed: 0')\n",
        "# shuffle the data\n",
        "df_male_full = df_male_full.sample(frac=1)\n",
        "print('\\n', df_male_full.head())\n"
      ],
      "metadata": {
        "colab": {
          "base_uri": "https://localhost:8080/"
        },
        "id": "RPlwk5w-RKAs",
        "outputId": "9ae74dce-6024-4845-fe93-e0dea776a3a5"
      },
      "execution_count": null,
      "outputs": [
        {
          "output_type": "stream",
          "name": "stdout",
          "text": [
            "       Name  Age  School  Work  Match  Treatment\n",
            "77   Jerico   26       1     1      0          0\n",
            "106    Joey   26       0     1      1          1\n",
            "112   Galen   22       0     0      1          1\n",
            "184    Nate   23       0     0      0          1\n",
            "43     John   22       0     1      0          0\n",
            "\n",
            "           Name  Age  School  Work  Match  Treatment\n",
            "170     Hannah   24       0     0      0          1\n",
            "59      Monica   27       0     1      0          0\n",
            "89        Anne   26       1     1      0          0\n",
            "150  Libbyanna   23       1     1      0          1\n",
            "115     Teresa   23       0     0      1          1\n"
          ]
        }
      ]
    },
    {
      "cell_type": "code",
      "source": [
        "female_list = bootstrap(df_female_full[df_female_full['Treatment']==1]['Match'],\n",
        "                   df_female_full[df_female_full['Treatment']==0]['Match'],\n",
        "                   percentage_decrease_metric,\n",
        "                   100,)\n",
        "np.mean(female_list)"
      ],
      "metadata": {
        "colab": {
          "base_uri": "https://localhost:8080/"
        },
        "id": "s63QbevMZlzv",
        "outputId": "348634dd-2d4e-4fe6-dd6e-7ea6d9a87adc"
      },
      "execution_count": null,
      "outputs": [
        {
          "output_type": "execute_result",
          "data": {
            "text/plain": [
              "45.743826264699"
            ]
          },
          "metadata": {},
          "execution_count": 26
        }
      ]
    },
    {
      "cell_type": "code",
      "source": [
        "male_list = bootstrap(df_male_full[df_male_full['Treatment']==1]['Match'],\n",
        "                           df_male_full[df_male_full['Treatment']==0]['Match'],\n",
        "                           percentage_decrease_metric,\n",
        "                           100,)\n",
        "np.mean(male_list)"
      ],
      "metadata": {
        "colab": {
          "base_uri": "https://localhost:8080/"
        },
        "id": "m83zox9Fav3V",
        "outputId": "73ed3beb-73fd-4ba9-d640-865f536e7057"
      },
      "execution_count": null,
      "outputs": [
        {
          "output_type": "execute_result",
          "data": {
            "text/plain": [
              "65.5214703983703"
            ]
          },
          "metadata": {},
          "execution_count": 27
        }
      ]
    },
    {
      "cell_type": "code",
      "source": [
        "%%time\n",
        "# t testing\n",
        "# Null is that the mean percentage decrease from princeton to rutgers is the same between the two groups.\n",
        "# Alternative is that the mean percentage decrease from princeton to rutgers is larger for females matching men.\n",
        "\n",
        "p_val_list = []\n",
        "for i in range(0,1000):\n",
        "    male_bootstrap = pd.Series(male_list).sample(frac=1, replace=True).to_list()\n",
        "    female_bootstrap = pd.Series(female_list).sample(frac=1, replace=True).to_list()\n",
        "    p_val = stats.ttest_ind(male_bootstrap, female_bootstrap, equal_var=False, alternative='greater')[1]\n",
        "    p_val_list.append(p_val)\n",
        "\n",
        "p_val_list.sort()\n",
        "lower = p_val_list[25]\n",
        "median = p_val_list[500]\n",
        "upper = p_val_list[975]\n",
        "\n",
        "print(f\"\\nP_val for Welch's T-test: {median}, with a 95% confidence interval of [{lower},{upper}]\\n\")"
      ],
      "metadata": {
        "colab": {
          "base_uri": "https://localhost:8080/"
        },
        "id": "9o5HSw1qXdJX",
        "outputId": "7a95d5d2-eee1-4b1c-c70b-0fe6888af5c4"
      },
      "execution_count": null,
      "outputs": [
        {
          "output_type": "stream",
          "name": "stdout",
          "text": [
            "\n",
            "P_val for Welch's T-test: 7.967108023031416e-24, with a 95% confidence interval of [7.373428917129313e-33,3.8935860133228996e-17]\n",
            "\n",
            "CPU times: user 914 ms, sys: 25.2 ms, total: 939 ms\n",
            "Wall time: 911 ms\n"
          ]
        }
      ]
    },
    {
      "cell_type": "code",
      "source": [
        "# practical significance testing\n",
        "def cohens_d(list1, list2): # with correction for small sample\n",
        "    return (mean(list1) - mean(list2)) / (sqrt((stdev(list1) ** 2 + stdev(list2) ** 2) / 2)) * ((len(list1)- 3)/ (len(list1)- 2.25)) * sqrt(((len(list1)- 2)/len(list1)))\n",
        "\n",
        "print(\"Effect size, Cohens D (number of strandard deviations between distributions): \", cohens_d(male_list, female_list))"
      ],
      "metadata": {
        "colab": {
          "base_uri": "https://localhost:8080/"
        },
        "id": "MnLEX-6XXdMM",
        "outputId": "b48c4734-6cf0-4433-91f6-812c5aaa9876"
      },
      "execution_count": null,
      "outputs": [
        {
          "output_type": "stream",
          "name": "stdout",
          "text": [
            "Effect size, Cohens D (number of strandard deviations between distributions):  1.6207253823929082\n"
          ]
        }
      ]
    },
    {
      "cell_type": "code",
      "source": [
        "%%time\n",
        "# Non-parametric testing (permutation testing) on median\n",
        "# Null is that the median percentage decrease from princeton to rutgers is explained by chance between the two groups.\n",
        "# Alternative is that the median percentage decrease from princeton to rutgers is larger for females matching men.\n",
        "\n",
        "\n",
        "# Testing on median\n",
        "p_val_list = []\n",
        "permutation_iters = 3000\n",
        "ground_truth = np.median(male_list) - np.median(female_list)\n",
        "# pool variables into one distribution, sample two distributions equal in size to the original \n",
        "pooled = list(male_list+female_list)\n",
        "for i in range(0,1000):\n",
        "    permuted_differences = []\n",
        "    for i in range(0,permutation_iters):    \n",
        "        shuffle(pooled)\n",
        "        permuted_differences.append(np.median(pooled[0:int(len(pooled)/2)]) - np.median(pooled[int(len(pooled)/2):]))\n",
        "    p_val = len(np.where(permuted_differences>=ground_truth)[0])/permutation_iters\n",
        "    p_val_list.append(p_val)\n",
        "p_val_list.sort()\n",
        "lower = p_val_list[25]\n",
        "median = p_val_list[500]\n",
        "upper = p_val_list[975]\n",
        "print(f'\\nP_val for One-Tailed Permutation Test on Median: {median}, with a 95% confidence interval of [{lower},{upper}]\\n')"
      ],
      "metadata": {
        "id": "Wht-rdTfXUs2",
        "colab": {
          "base_uri": "https://localhost:8080/"
        },
        "outputId": "bc4d68c3-ef8e-4c5a-f0aa-d1349f999f0d"
      },
      "execution_count": 30,
      "outputs": [
        {
          "metadata": {
            "tags": null
          },
          "name": "stdout",
          "output_type": "stream",
          "text": [
            "\n",
            "P_val for One-Tailed Permutation Test on Median: 0.0, with a 95% confidence interval of [0.0,0.0]\n",
            "\n",
            "CPU times: user 11min 22s, sys: 1.69 s, total: 11min 23s\n",
            "Wall time: 11min 22s\n"
          ]
        }
      ]
    },
    {
      "cell_type": "markdown",
      "source": [
        "## Part 2: ATE for control versus treatment inter-sex\n",
        "---\n",
        "\n",
        "* pools the females and the males together and calculates the ATE of having Princeton versus Rutgers overall"
      ],
      "metadata": {
        "id": "fsqDDS_oAi2_"
      }
    },
    {
      "cell_type": "code",
      "source": [
        "full_df = pd.concat([df_male_full, df_female_full])\n",
        "full_df.sample(4)"
      ],
      "metadata": {
        "id": "4qIa6bGrBr0L",
        "outputId": "123a8f44-ade9-4e83-edea-f28f97f1bc00",
        "colab": {
          "base_uri": "https://localhost:8080/",
          "height": 175
        }
      },
      "execution_count": 35,
      "outputs": [
        {
          "output_type": "execute_result",
          "data": {
            "text/plain": [
              "        Name  Age  School  Work  Match  Treatment\n",
              "65    Advait   23       1     0      0          0\n",
              "214    Mayra   21       0     1      0          1\n",
              "1        Ash   24       1     1      1          0\n",
              "25   Wendell   23       1     0      1          0"
            ],
            "text/html": [
              "\n",
              "  <div id=\"df-b177eba4-9482-42df-95c7-37383a8c1c3d\">\n",
              "    <div class=\"colab-df-container\">\n",
              "      <div>\n",
              "<style scoped>\n",
              "    .dataframe tbody tr th:only-of-type {\n",
              "        vertical-align: middle;\n",
              "    }\n",
              "\n",
              "    .dataframe tbody tr th {\n",
              "        vertical-align: top;\n",
              "    }\n",
              "\n",
              "    .dataframe thead th {\n",
              "        text-align: right;\n",
              "    }\n",
              "</style>\n",
              "<table border=\"1\" class=\"dataframe\">\n",
              "  <thead>\n",
              "    <tr style=\"text-align: right;\">\n",
              "      <th></th>\n",
              "      <th>Name</th>\n",
              "      <th>Age</th>\n",
              "      <th>School</th>\n",
              "      <th>Work</th>\n",
              "      <th>Match</th>\n",
              "      <th>Treatment</th>\n",
              "    </tr>\n",
              "  </thead>\n",
              "  <tbody>\n",
              "    <tr>\n",
              "      <th>65</th>\n",
              "      <td>Advait</td>\n",
              "      <td>23</td>\n",
              "      <td>1</td>\n",
              "      <td>0</td>\n",
              "      <td>0</td>\n",
              "      <td>0</td>\n",
              "    </tr>\n",
              "    <tr>\n",
              "      <th>214</th>\n",
              "      <td>Mayra</td>\n",
              "      <td>21</td>\n",
              "      <td>0</td>\n",
              "      <td>1</td>\n",
              "      <td>0</td>\n",
              "      <td>1</td>\n",
              "    </tr>\n",
              "    <tr>\n",
              "      <th>1</th>\n",
              "      <td>Ash</td>\n",
              "      <td>24</td>\n",
              "      <td>1</td>\n",
              "      <td>1</td>\n",
              "      <td>1</td>\n",
              "      <td>0</td>\n",
              "    </tr>\n",
              "    <tr>\n",
              "      <th>25</th>\n",
              "      <td>Wendell</td>\n",
              "      <td>23</td>\n",
              "      <td>1</td>\n",
              "      <td>0</td>\n",
              "      <td>1</td>\n",
              "      <td>0</td>\n",
              "    </tr>\n",
              "  </tbody>\n",
              "</table>\n",
              "</div>\n",
              "      <button class=\"colab-df-convert\" onclick=\"convertToInteractive('df-b177eba4-9482-42df-95c7-37383a8c1c3d')\"\n",
              "              title=\"Convert this dataframe to an interactive table.\"\n",
              "              style=\"display:none;\">\n",
              "        \n",
              "  <svg xmlns=\"http://www.w3.org/2000/svg\" height=\"24px\"viewBox=\"0 0 24 24\"\n",
              "       width=\"24px\">\n",
              "    <path d=\"M0 0h24v24H0V0z\" fill=\"none\"/>\n",
              "    <path d=\"M18.56 5.44l.94 2.06.94-2.06 2.06-.94-2.06-.94-.94-2.06-.94 2.06-2.06.94zm-11 1L8.5 8.5l.94-2.06 2.06-.94-2.06-.94L8.5 2.5l-.94 2.06-2.06.94zm10 10l.94 2.06.94-2.06 2.06-.94-2.06-.94-.94-2.06-.94 2.06-2.06.94z\"/><path d=\"M17.41 7.96l-1.37-1.37c-.4-.4-.92-.59-1.43-.59-.52 0-1.04.2-1.43.59L10.3 9.45l-7.72 7.72c-.78.78-.78 2.05 0 2.83L4 21.41c.39.39.9.59 1.41.59.51 0 1.02-.2 1.41-.59l7.78-7.78 2.81-2.81c.8-.78.8-2.07 0-2.86zM5.41 20L4 18.59l7.72-7.72 1.47 1.35L5.41 20z\"/>\n",
              "  </svg>\n",
              "      </button>\n",
              "      \n",
              "  <style>\n",
              "    .colab-df-container {\n",
              "      display:flex;\n",
              "      flex-wrap:wrap;\n",
              "      gap: 12px;\n",
              "    }\n",
              "\n",
              "    .colab-df-convert {\n",
              "      background-color: #E8F0FE;\n",
              "      border: none;\n",
              "      border-radius: 50%;\n",
              "      cursor: pointer;\n",
              "      display: none;\n",
              "      fill: #1967D2;\n",
              "      height: 32px;\n",
              "      padding: 0 0 0 0;\n",
              "      width: 32px;\n",
              "    }\n",
              "\n",
              "    .colab-df-convert:hover {\n",
              "      background-color: #E2EBFA;\n",
              "      box-shadow: 0px 1px 2px rgba(60, 64, 67, 0.3), 0px 1px 3px 1px rgba(60, 64, 67, 0.15);\n",
              "      fill: #174EA6;\n",
              "    }\n",
              "\n",
              "    [theme=dark] .colab-df-convert {\n",
              "      background-color: #3B4455;\n",
              "      fill: #D2E3FC;\n",
              "    }\n",
              "\n",
              "    [theme=dark] .colab-df-convert:hover {\n",
              "      background-color: #434B5C;\n",
              "      box-shadow: 0px 1px 3px 1px rgba(0, 0, 0, 0.15);\n",
              "      filter: drop-shadow(0px 1px 2px rgba(0, 0, 0, 0.3));\n",
              "      fill: #FFFFFF;\n",
              "    }\n",
              "  </style>\n",
              "\n",
              "      <script>\n",
              "        const buttonEl =\n",
              "          document.querySelector('#df-b177eba4-9482-42df-95c7-37383a8c1c3d button.colab-df-convert');\n",
              "        buttonEl.style.display =\n",
              "          google.colab.kernel.accessAllowed ? 'block' : 'none';\n",
              "\n",
              "        async function convertToInteractive(key) {\n",
              "          const element = document.querySelector('#df-b177eba4-9482-42df-95c7-37383a8c1c3d');\n",
              "          const dataTable =\n",
              "            await google.colab.kernel.invokeFunction('convertToInteractive',\n",
              "                                                     [key], {});\n",
              "          if (!dataTable) return;\n",
              "\n",
              "          const docLinkHtml = 'Like what you see? Visit the ' +\n",
              "            '<a target=\"_blank\" href=https://colab.research.google.com/notebooks/data_table.ipynb>data table notebook</a>'\n",
              "            + ' to learn more about interactive tables.';\n",
              "          element.innerHTML = '';\n",
              "          dataTable['output_type'] = 'display_data';\n",
              "          await google.colab.output.renderOutput(dataTable, element);\n",
              "          const docLink = document.createElement('div');\n",
              "          docLink.innerHTML = docLinkHtml;\n",
              "          element.appendChild(docLink);\n",
              "        }\n",
              "      </script>\n",
              "    </div>\n",
              "  </div>\n",
              "  "
            ]
          },
          "metadata": {},
          "execution_count": 35
        }
      ]
    },
    {
      "cell_type": "code",
      "source": [
        "import statsmodels.api as sm\n",
        "ytrain = full_df['Match']\n",
        "Xtrain = full_df[['Age', 'School', 'Work', 'Treatment']]\n",
        "log_reg = sm.Logit(ytrain, Xtrain).fit()\n",
        "log_reg.summary()"
      ],
      "metadata": {
        "id": "mpn3hcR6AqqY",
        "outputId": "f82dd5e1-b639-4049-dfc1-92ace62977ac",
        "colab": {
          "base_uri": "https://localhost:8080/",
          "height": 348
        }
      },
      "execution_count": 44,
      "outputs": [
        {
          "output_type": "stream",
          "name": "stdout",
          "text": [
            "Optimization terminated successfully.\n",
            "         Current function value: 0.550270\n",
            "         Iterations 6\n"
          ]
        },
        {
          "output_type": "execute_result",
          "data": {
            "text/plain": [
              "<class 'statsmodels.iolib.summary.Summary'>\n",
              "\"\"\"\n",
              "                           Logit Regression Results                           \n",
              "==============================================================================\n",
              "Dep. Variable:                  Match   No. Observations:                  413\n",
              "Model:                          Logit   Df Residuals:                      409\n",
              "Method:                           MLE   Df Model:                            3\n",
              "Date:                Tue, 26 Apr 2022   Pseudo R-squ.:                 0.06601\n",
              "Time:                        04:06:17   Log-Likelihood:                -227.26\n",
              "converged:                       True   LL-Null:                       -243.32\n",
              "Covariance Type:            nonrobust   LLR p-value:                 4.923e-07\n",
              "==============================================================================\n",
              "                 coef    std err          z      P>|z|      [0.025      0.975]\n",
              "------------------------------------------------------------------------------\n",
              "Age           -0.0846      0.010     -8.520      0.000      -0.104      -0.065\n",
              "School         0.8424      0.238      3.545      0.000       0.377       1.308\n",
              "Work           0.6301      0.242      2.603      0.009       0.156       1.105\n",
              "Treatment      0.7861      0.232      3.395      0.001       0.332       1.240\n",
              "==============================================================================\n",
              "\"\"\""
            ],
            "text/html": [
              "<table class=\"simpletable\">\n",
              "<caption>Logit Regression Results</caption>\n",
              "<tr>\n",
              "  <th>Dep. Variable:</th>         <td>Match</td>      <th>  No. Observations:  </th>  <td>   413</td>  \n",
              "</tr>\n",
              "<tr>\n",
              "  <th>Model:</th>                 <td>Logit</td>      <th>  Df Residuals:      </th>  <td>   409</td>  \n",
              "</tr>\n",
              "<tr>\n",
              "  <th>Method:</th>                 <td>MLE</td>       <th>  Df Model:          </th>  <td>     3</td>  \n",
              "</tr>\n",
              "<tr>\n",
              "  <th>Date:</th>            <td>Tue, 26 Apr 2022</td> <th>  Pseudo R-squ.:     </th>  <td>0.06601</td> \n",
              "</tr>\n",
              "<tr>\n",
              "  <th>Time:</th>                <td>04:06:17</td>     <th>  Log-Likelihood:    </th> <td> -227.26</td> \n",
              "</tr>\n",
              "<tr>\n",
              "  <th>converged:</th>             <td>True</td>       <th>  LL-Null:           </th> <td> -243.32</td> \n",
              "</tr>\n",
              "<tr>\n",
              "  <th>Covariance Type:</th>     <td>nonrobust</td>    <th>  LLR p-value:       </th> <td>4.923e-07</td>\n",
              "</tr>\n",
              "</table>\n",
              "<table class=\"simpletable\">\n",
              "<tr>\n",
              "      <td></td>         <th>coef</th>     <th>std err</th>      <th>z</th>      <th>P>|z|</th>  <th>[0.025</th>    <th>0.975]</th>  \n",
              "</tr>\n",
              "<tr>\n",
              "  <th>Age</th>       <td>   -0.0846</td> <td>    0.010</td> <td>   -8.520</td> <td> 0.000</td> <td>   -0.104</td> <td>   -0.065</td>\n",
              "</tr>\n",
              "<tr>\n",
              "  <th>School</th>    <td>    0.8424</td> <td>    0.238</td> <td>    3.545</td> <td> 0.000</td> <td>    0.377</td> <td>    1.308</td>\n",
              "</tr>\n",
              "<tr>\n",
              "  <th>Work</th>      <td>    0.6301</td> <td>    0.242</td> <td>    2.603</td> <td> 0.009</td> <td>    0.156</td> <td>    1.105</td>\n",
              "</tr>\n",
              "<tr>\n",
              "  <th>Treatment</th> <td>    0.7861</td> <td>    0.232</td> <td>    3.395</td> <td> 0.001</td> <td>    0.332</td> <td>    1.240</td>\n",
              "</tr>\n",
              "</table>"
            ]
          },
          "metadata": {},
          "execution_count": 44
        }
      ]
    },
    {
      "cell_type": "markdown",
      "source": [
        "* ATE is 0.7861 with a standard error of 0.232 and p-value of 0.001"
      ],
      "metadata": {
        "id": "xjPZ4hn1CyZi"
      }
    }
  ]
}